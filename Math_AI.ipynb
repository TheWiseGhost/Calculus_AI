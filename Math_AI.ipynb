{
  "nbformat": 4,
  "nbformat_minor": 0,
  "metadata": {
    "colab": {
      "provenance": [],
      "include_colab_link": true
    },
    "kernelspec": {
      "name": "python3",
      "display_name": "Python 3"
    },
    "language_info": {
      "name": "python"
    }
  },
  "cells": [
    {
      "cell_type": "markdown",
      "metadata": {
        "id": "view-in-github",
        "colab_type": "text"
      },
      "source": [
        "<a href=\"https://colab.research.google.com/github/TheWiseGhost/Calculus_AI/blob/main/Math_AI.ipynb\" target=\"_parent\"><img src=\"https://colab.research.google.com/assets/colab-badge.svg\" alt=\"Open In Colab\"/></a>"
      ]
    },
    {
      "cell_type": "code",
      "execution_count": 2,
      "metadata": {
        "id": "zkvYxNOeLKQE"
      },
      "outputs": [],
      "source": [
        "# Creating a Math AI that can solve calculus problems\n",
        "\n",
        "# Exploring a few models, older models and experiments are shown\n",
        "# as you scroll to the bottom of the page\n",
        "\n",
        "# Started 1/22/25\n",
        "# Aditya Byju"
      ]
    },
    {
      "cell_type": "markdown",
      "source": [
        "#Neural Net"
      ],
      "metadata": {
        "id": "_z-kwS3YuJQJ"
      }
    },
    {
      "cell_type": "code",
      "source": [
        "import sympy as sp\n",
        "import random\n",
        "\n",
        "# Function to generate random calculus problems\n",
        "def generate_calculus_problems(num_problems=100):\n",
        "    data = []\n",
        "    for _ in range(num_problems):\n",
        "        # Random polynomial function\n",
        "        x = sp.symbols('x')\n",
        "        degree = random.randint(1, 3)  # Degree of the polynomial\n",
        "        coefficients = [random.randint(-10, 10) for _ in range(degree + 1)]\n",
        "        poly = sum(c * x**i for i, c in enumerate(coefficients))\n",
        "\n",
        "        # Randomly choose between differentiation or integration\n",
        "        if random.choice(['diff', 'integrate']) == 'diff':\n",
        "            problem = f\"d/dx({poly})\"\n",
        "            solution = sp.diff(poly, x)\n",
        "        else:\n",
        "            problem = f\"∫({poly})dx\"\n",
        "            solution = sp.integrate(poly, x)\n",
        "\n",
        "        data.append((str(problem), str(solution) + \" + C\" if '∫' in problem else str(solution)))\n",
        "\n",
        "    return data\n",
        "\n",
        "# Generate and save dataset\n",
        "problems = generate_calculus_problems(10000)\n"
      ],
      "metadata": {
        "id": "cerY8l4gul5K"
      },
      "execution_count": 4,
      "outputs": []
    },
    {
      "cell_type": "code",
      "source": [
        "import torch\n",
        "from torch.utils.data import Dataset, DataLoader\n",
        "from collections import defaultdict\n",
        "from torch.nn.utils.rnn import pad_sequence\n",
        "\n",
        "# Create a vocabulary dictionary, ensuring we include the needed symbols.\n",
        "vocab = defaultdict(lambda: len(vocab))\n",
        "\n",
        "# Add special symbols to the vocabulary (such as x, operators, etc.)\n",
        "for token in ['x', '+', '-', '*', '/', '(', ')', '∫', 'd/dx', 'dx']:\n",
        "    vocab[token]  # Ensure these tokens are in the vocab\n",
        "\n",
        "# Add all symbols in the dataset to the vocabulary\n",
        "def update_vocab_with_data(data):\n",
        "    for problem, solution in data:\n",
        "        for token in problem.split():\n",
        "            vocab[token]  # Add tokens from the problem to the vocab\n",
        "        for token in solution.split():\n",
        "            vocab[token]  # Add tokens from the solution to the vocab\n",
        "\n",
        "# Call this function to ensure the vocab is updated\n",
        "update_vocab_with_data(problems)\n",
        "\n",
        "def tokenize_expression(expression):\n",
        "    return [vocab[token] for token in expression.replace('(', ' ( ').replace(')', ' ) ').split() if token in vocab]\n",
        "\n",
        "\n",
        "class CalculusDataset(Dataset):\n",
        "    def __init__(self, data, vocab, max_length=50):\n",
        "        self.data = data\n",
        "        self.vocab = vocab\n",
        "        self.max_length = max_length\n",
        "\n",
        "    def __len__(self):\n",
        "        return len(self.data)\n",
        "\n",
        "    def __getitem__(self, idx):\n",
        "        problem, solution = self.data[idx]\n",
        "        # Tokenize the problem and solution\n",
        "        input_ids = torch.tensor(tokenize_expression(problem))\n",
        "        target_ids = torch.tensor(tokenize_expression(solution))\n",
        "\n",
        "        # Padding the sequences to the maximum length\n",
        "        input_ids = torch.cat([input_ids, torch.zeros(self.max_length - len(input_ids))], dim=0)[:self.max_length]\n",
        "        target_ids = torch.cat([target_ids, torch.zeros(self.max_length - len(target_ids))], dim=0)[:self.max_length]\n",
        "\n",
        "        return input_ids.long(), target_ids.long()\n",
        "\n",
        "    def collate_fn(batch):\n",
        "        input_batch = [item[0] for item in batch]\n",
        "        target_batch = [item[1] for item in batch]\n",
        "        input_batch = pad_sequence(input_batch, batch_first=True, padding_value=0)  # Padding input\n",
        "        target_batch = pad_sequence(target_batch, batch_first=True, padding_value=0)  # Padding target\n",
        "        return input_batch, target_batch\n",
        "\n",
        "\n",
        "# Prepare dataset\n",
        "dataset = CalculusDataset(problems, vocab)\n",
        "train_loader = DataLoader(dataset, batch_size=8, shuffle=True, collate_fn=CalculusDataset.collate_fn)"
      ],
      "metadata": {
        "id": "CO4LynMkuqAM"
      },
      "execution_count": 16,
      "outputs": []
    },
    {
      "cell_type": "code",
      "source": [
        "import torch.nn as nn\n",
        "import torch.optim as optim\n",
        "\n",
        "class Seq2SeqModel(nn.Module):\n",
        "    def __init__(self, input_size, hidden_size, output_size):\n",
        "        super(Seq2SeqModel, self).__init__()\n",
        "        self.encoder = nn.Embedding(input_size, hidden_size)\n",
        "        self.rnn = nn.LSTM(hidden_size, hidden_size, batch_first=True)\n",
        "        self.decoder = nn.Linear(hidden_size, output_size)\n",
        "\n",
        "    def forward(self, x):\n",
        "        embedded = self.encoder(x)\n",
        "        rnn_out, (hidden, cell) = self.rnn(embedded)\n",
        "        output = self.decoder(rnn_out)\n",
        "        return output\n",
        "\n",
        "# Initialize model, loss function, and optimizer\n",
        "input_size = len(vocab)  # Number of tokens in vocabulary\n",
        "hidden_size = 256        # Number of hidden units in the RNN\n",
        "output_size = len(vocab) # Output size is the same as the input size (for token prediction)\n",
        "\n",
        "model = Seq2SeqModel(input_size, hidden_size, output_size)\n",
        "loss_fn = nn.CrossEntropyLoss()\n",
        "optimizer = optim.Adam(model.parameters(), lr=0.001)\n"
      ],
      "metadata": {
        "id": "jh_rNfm-ushf"
      },
      "execution_count": 17,
      "outputs": []
    },
    {
      "cell_type": "code",
      "source": [
        "# Training loop\n",
        "num_epochs = 5\n",
        "\n",
        "for epoch in range(num_epochs):\n",
        "    total_loss = 0\n",
        "    for input_ids, target_ids in train_loader:\n",
        "        optimizer.zero_grad()\n",
        "\n",
        "        # Forward pass\n",
        "        output = model(input_ids)\n",
        "\n",
        "        # Compute the loss\n",
        "        output = output.view(-1, output_size)\n",
        "        target_ids = target_ids.view(-1)\n",
        "        loss = loss_fn(output, target_ids)\n",
        "\n",
        "        # Backward pass and optimization\n",
        "        loss.backward()\n",
        "        optimizer.step()\n",
        "\n",
        "        total_loss += loss.item()\n",
        "\n",
        "    print(f\"Epoch [{epoch+1}/{num_epochs}], Loss: {total_loss/len(train_loader)}\")\n"
      ],
      "metadata": {
        "colab": {
          "base_uri": "https://localhost:8080/"
        },
        "id": "zzvUwiC4uv56",
        "outputId": "cecef523-ebdb-4e2b-d7d3-cf8539a31555"
      },
      "execution_count": 18,
      "outputs": [
        {
          "output_type": "stream",
          "name": "stdout",
          "text": [
            "Epoch [1/5], Loss: 0.2422828232884407\n",
            "Epoch [2/5], Loss: 0.18427832058668137\n",
            "Epoch [3/5], Loss: 0.18252447969317437\n",
            "Epoch [4/5], Loss: 0.1818704092502594\n",
            "Epoch [5/5], Loss: 0.1811661997318268\n"
          ]
        }
      ]
    },
    {
      "cell_type": "code",
      "source": [
        "def solve_problem(model, problem):\n",
        "    model.eval()\n",
        "    input_ids = torch.tensor(tokenize_expression(problem)).unsqueeze(0)  # Add batch dimension\n",
        "    output = model(input_ids)\n",
        "    predicted_ids = output.argmax(dim=-1).squeeze().tolist()  # Get the token with the highest probability\n",
        "\n",
        "    # Decode the output tokens back to text\n",
        "    reversed_vocab = {v: k for k, v in vocab.items()}\n",
        "    solution = ' '.join([reversed_vocab[id] for id in predicted_ids if id != 0])  # Remove padding\n",
        "    return solution\n",
        "\n",
        "# Example test problem\n",
        "test_problem = \"∫(3x^2 + 2x + 1)dx\"\n",
        "solution = solve_problem(model, test_problem)\n",
        "print(f\"Problem: {test_problem}\")\n",
        "print(f\"Solution: {solution}\")\n"
      ],
      "metadata": {
        "colab": {
          "base_uri": "https://localhost:8080/"
        },
        "id": "zop-BxWeuxs7",
        "outputId": "42b96ef3-e5c0-4450-e290-cf85d39f0fd3"
      },
      "execution_count": 19,
      "outputs": [
        {
          "output_type": "stream",
          "name": "stdout",
          "text": [
            "Problem: ∫(3x^2 + 2x + 1)dx\n",
            "Solution: -9*x**4/4 - x**3/3 -\n"
          ]
        }
      ]
    },
    {
      "cell_type": "code",
      "source": [
        "torch.save(model.state_dict(), \"calculus_solver.pth\")"
      ],
      "metadata": {
        "id": "vR11z6mUuztO"
      },
      "execution_count": null,
      "outputs": []
    },
    {
      "cell_type": "markdown",
      "source": [
        "#Simple Reward system algo + Gym API AI model with PyTorch\n"
      ],
      "metadata": {
        "id": "_3UQjsQ_21aw"
      }
    },
    {
      "cell_type": "code",
      "source": [
        "# Basic test\n",
        "import sympy as sp\n",
        "import random\n",
        "\n",
        "def generate_calculus_problem():\n",
        "    x = sp.symbols('x')\n",
        "    degree = random.choice([1, 2, 3])\n",
        "\n",
        "    # Get a random polynomial\n",
        "    poly = sum(random.randint(1, 5) * x**i for i in range(degree + 1))\n",
        "\n",
        "    # Get the derivative\n",
        "    solution = sp.diff(poly, x)\n",
        "    return poly, solution\n",
        "\n",
        "# Example problem generation\n",
        "problem, solution = generate_calculus_problem()\n",
        "print(f\"Problem: {problem}\")\n",
        "print(f\"Solution (derivative): {solution}\")"
      ],
      "metadata": {
        "colab": {
          "base_uri": "https://localhost:8080/"
        },
        "id": "Ia4dz_8f2p7p",
        "outputId": "4bd38d8d-ff09-45e2-f8e5-d1902194fe2c"
      },
      "execution_count": null,
      "outputs": [
        {
          "output_type": "stream",
          "name": "stdout",
          "text": [
            "Problem: 5*x**3 + x**2 + x + 4\n",
            "Solution (derivative): 15*x**2 + 2*x + 1\n"
          ]
        }
      ]
    },
    {
      "cell_type": "code",
      "source": [
        "# Create the Gym API\n",
        "# Trying to use a reward algo\n",
        "import gym\n",
        "from gym import spaces\n",
        "import numpy as np\n",
        "\n",
        "# Environment Class\n",
        "class CalculusEnv(gym.Env):\n",
        "    def __init__(self, reward_system):\n",
        "        super(CalculusEnv, self).__init__()\n",
        "\n",
        "        # Actions:\n",
        "        # {0: 'differentiate', 1: 'simplify', 2: 'check', 3: 'finish'}\n",
        "        self.action_space = spaces.Discrete(4)\n",
        "\n",
        "        # States:\n",
        "         # {0: 'in_progress', 1: 'solved'}\n",
        "        self.observation_space = spaces.Discrete(2)\n",
        "        self.reward_system = reward_system\n",
        "        self.reset()\n",
        "\n",
        "    def reset(self):\n",
        "        self.problem, self.solution = generate_calculus_problem()\n",
        "        self.current_step = 0\n",
        "        self.done = False\n",
        "        self.state = 0  # 'in_progress'\n",
        "        return self.state\n",
        "\n",
        "    def step(self, action, user_step=None):\n",
        "    if self.done:\n",
        "        return self.state, 0, True, {}\n",
        "\n",
        "    reward = 0\n",
        "    info = {}\n",
        "\n",
        "    if action == 0:  # Differentiate\n",
        "        if self.is_correct_step(user_step):  # Validate the differentiation step\n",
        "            reward = self.reward_system['correct_derivative']\n",
        "            self.current_step += 1\n",
        "            if self.current_step == len(str(self.solution)):\n",
        "                self.done = True\n",
        "        else:\n",
        "            reward = self.reward_system['incorrect_step']\n",
        "\n",
        "    elif action == 1:  # Simplify\n",
        "        if self.is_correct_step(user_step):  # Validate simplification\n",
        "            reward = self.reward_system['simplify']\n",
        "        else:\n",
        "            reward = self.reward_system['unnecessary_simplify']\n",
        "\n",
        "    elif action == 2:  # Check Answer\n",
        "        if user_step == self.solution:  # Validate final answer\n",
        "            self.done = True\n",
        "            reward = self.reward_system['correct_check']\n",
        "            info = {'info': 'Correct answer'}\n",
        "        else:\n",
        "            reward = self.reward_system['incorrect_check']\n",
        "\n",
        "    elif action == 3:  # Finish\n",
        "        if self.current_step == len(str(self.solution)):\n",
        "            self.done = True\n",
        "            reward = self.reward_system['finish_correct']\n",
        "            info = {'info': 'Solved'}\n",
        "        else:\n",
        "            reward = self.reward_system['finish_incorrect']\n",
        "    else:\n",
        "        reward = self.reward_system['invalid_action']\n",
        "\n",
        "    return self.state, reward, self.done, info\n",
        "\n",
        "    def render(self):\n",
        "        return f\"Current Problem: {self.problem}, Steps Taken: {self.current_step}\""
      ],
      "metadata": {
        "id": "pfdclZfa3JIZ"
      },
      "execution_count": null,
      "outputs": []
    },
    {
      "cell_type": "code",
      "source": [
        "# Q-Learning Algo to train the AI\n",
        "import torch\n",
        "import torch.nn as nn\n",
        "import torch.optim as optim\n",
        "\n",
        "class QLearningAgent(nn.Module):\n",
        "    def __init__(self, state_size, action_size):\n",
        "        super(QLearningAgent, self).__init__()\n",
        "        self.fc = nn.Sequential(\n",
        "            nn.Linear(state_size, 128),\n",
        "            nn.ReLU(),\n",
        "            nn.Linear(128, action_size)\n",
        "        )\n",
        "        self.optimizer = optim.Adam(self.parameters(), lr=0.001)\n",
        "\n",
        "    def forward(self, state):\n",
        "        return self.fc(state)\n",
        "\n",
        "# Initialize the Q-learning agent\n",
        "state_size = 1  # Only one state (in_progress or solved)\n",
        "action_size = 4  # Four actions\n",
        "agent = QLearningAgent(state_size, action_size)\n",
        "\n",
        "# Initialize the target Q-value (to store the best action)\n",
        "target_q_value = QLearningAgent(state_size, action_size)\n",
        "target_q_value.load_state_dict(agent.state_dict())\n"
      ],
      "metadata": {
        "colab": {
          "base_uri": "https://localhost:8080/"
        },
        "id": "XAPoXv5r32im",
        "outputId": "944c9fe7-15ec-4497-8ce0-f33a94917e41"
      },
      "execution_count": null,
      "outputs": [
        {
          "output_type": "execute_result",
          "data": {
            "text/plain": [
              "<All keys matched successfully>"
            ]
          },
          "metadata": {},
          "execution_count": 6
        }
      ]
    },
    {
      "cell_type": "code",
      "source": [
        "# Test the AI\n",
        "import random\n",
        "from collections import deque\n",
        "\n",
        "def train_agent(hyperparameters, reward_system):\n",
        "    state_size = 1\n",
        "    action_size = 4\n",
        "    agent = QLearningAgent(state_size, action_size)\n",
        "    target_q_value = QLearningAgent(state_size, action_size)\n",
        "    target_q_value.load_state_dict(agent.state_dict())\n",
        "\n",
        "    env = CalculusEnv(reward_system)\n",
        "\n",
        "    episodes = hyperparameters['episodes']\n",
        "    gamma = hyperparameters['gamma']\n",
        "    epsilon = hyperparameters['epsilon']\n",
        "    epsilon_decay = hyperparameters['epsilon_decay']\n",
        "    min_epsilon = hyperparameters['min_epsilon']\n",
        "    batch_size = hyperparameters['batch_size']\n",
        "\n",
        "    memory = deque(maxlen=10000)\n",
        "    total_rewards = []\n",
        "\n",
        "    for episode in range(episodes):\n",
        "        state = env.reset()\n",
        "        state_tensor = torch.tensor([state], dtype=torch.float32)\n",
        "        total_reward = 0\n",
        "\n",
        "        while not env.done:\n",
        "            if random.random() < epsilon:\n",
        "                action = random.choice(range(action_size))\n",
        "            else:\n",
        "                with torch.no_grad():\n",
        "                    action_values = agent(state_tensor)\n",
        "                    action = torch.argmax(action_values).item()\n",
        "\n",
        "            next_state, reward, done, _ = env.step(action)\n",
        "            next_state_tensor = torch.tensor([next_state], dtype=torch.float32)\n",
        "\n",
        "            memory.append((state_tensor, action, reward, next_state_tensor, done))\n",
        "\n",
        "            if len(memory) >= batch_size:\n",
        "                batch = random.sample(memory, batch_size)\n",
        "                for s, a, r, ns, d in batch:\n",
        "                    q_value = agent(s)[a]\n",
        "                    target_value = r + (gamma * torch.max(target_q_value(ns)) * (1 - d))\n",
        "                    loss = nn.MSELoss()(q_value, target_value)\n",
        "\n",
        "                    agent.optimizer.zero_grad()\n",
        "                    loss.backward()\n",
        "                    agent.optimizer.step()\n",
        "\n",
        "            state_tensor = next_state_tensor\n",
        "            total_reward += reward\n",
        "\n",
        "        if epsilon > min_epsilon:\n",
        "            epsilon *= epsilon_decay\n",
        "\n",
        "        total_rewards.append(total_reward)\n",
        "        target_q_value.load_state_dict(agent.state_dict())\n",
        "\n",
        "    return agent, np.mean(total_rewards[-10:])  # Return the average reward of the last 10 episodes"
      ],
      "metadata": {
        "id": "9GwKgX0O5JWA"
      },
      "execution_count": null,
      "outputs": []
    },
    {
      "cell_type": "code",
      "source": [
        "# Find the best model and params\n",
        "hyperparameter_sets = [\n",
        "    {'episodes': 100, 'gamma': 0.99, 'epsilon': 1.0, 'epsilon_decay': 0.995, 'min_epsilon': 0.1, 'batch_size': 16},\n",
        "    {'episodes': 100, 'gamma': 0.9, 'epsilon': 1.0, 'epsilon_decay': 0.99, 'min_epsilon': 0.05, 'batch_size': 32},\n",
        "]\n",
        "\n",
        "reward_systems = [\n",
        "    {'correct_derivative': 10, 'step_penalty': -0.5, 'simplify': 2, 'unnecessary_simplify': -1, 'correct_check': 10, 'incorrect_check': -5, 'finish_correct': 10, 'finish_incorrect': -10, 'invalid_action': -10},\n",
        "    {'correct_derivative': 15, 'step_penalty': -1, 'simplify': 1, 'unnecessary_simplify': -2, 'correct_check': 15, 'incorrect_check': -10, 'finish_correct': 15, 'finish_incorrect': -15, 'invalid_action': -15},\n",
        "]\n",
        "\n",
        "best_performance = -float('inf')\n",
        "\n",
        "for hyperparams in hyperparameter_sets:\n",
        "    for rewards in reward_systems:\n",
        "        avg_reward = train_agent(hyperparams, rewards)\n",
        "        print(f\"Hyperparams: {hyperparams}, Rewards: {rewards}, Avg Reward: {avg_reward}\")\n",
        "\n",
        "        if avg_reward > best_performance:\n",
        "            best_performance = avg_reward\n",
        "            best_hyperparams = hyperparams\n",
        "            best_reward_system = rewards\n",
        "\n",
        "print(\"\\nBest Hyperparameters:\", best_hyperparams)\n",
        "print(\"Best Reward System:\", best_reward_system)\n"
      ],
      "metadata": {
        "colab": {
          "base_uri": "https://localhost:8080/"
        },
        "id": "xWUaj4yPROV8",
        "outputId": "b5f7591e-fd68-42ab-c614-d13799588965"
      },
      "execution_count": null,
      "outputs": [
        {
          "output_type": "stream",
          "name": "stdout",
          "text": [
            "Hyperparams: {'episodes': 100, 'gamma': 0.99, 'epsilon': 1.0, 'epsilon_decay': 0.995, 'min_epsilon': 0.1, 'batch_size': 16}, Rewards: {'correct_derivative': 10, 'step_penalty': -0.5, 'simplify': 2, 'unnecessary_simplify': -1, 'correct_check': 10, 'incorrect_check': -5, 'finish_correct': 10, 'finish_incorrect': -10, 'invalid_action': -10}, Avg Reward: -38.3\n",
            "Hyperparams: {'episodes': 100, 'gamma': 0.99, 'epsilon': 1.0, 'epsilon_decay': 0.995, 'min_epsilon': 0.1, 'batch_size': 16}, Rewards: {'correct_derivative': 15, 'step_penalty': -1, 'simplify': 1, 'unnecessary_simplify': -2, 'correct_check': 15, 'incorrect_check': -10, 'finish_correct': 15, 'finish_incorrect': -15, 'invalid_action': -15}, Avg Reward: -221.5\n",
            "Hyperparams: {'episodes': 100, 'gamma': 0.9, 'epsilon': 1.0, 'epsilon_decay': 0.99, 'min_epsilon': 0.05, 'batch_size': 32}, Rewards: {'correct_derivative': 10, 'step_penalty': -0.5, 'simplify': 2, 'unnecessary_simplify': -1, 'correct_check': 10, 'incorrect_check': -5, 'finish_correct': 10, 'finish_incorrect': -10, 'invalid_action': -10}, Avg Reward: -5.45\n",
            "Hyperparams: {'episodes': 100, 'gamma': 0.9, 'epsilon': 1.0, 'epsilon_decay': 0.99, 'min_epsilon': 0.05, 'batch_size': 32}, Rewards: {'correct_derivative': 15, 'step_penalty': -1, 'simplify': 1, 'unnecessary_simplify': -2, 'correct_check': 15, 'incorrect_check': -10, 'finish_correct': 15, 'finish_incorrect': -15, 'invalid_action': -15}, Avg Reward: -153.2\n",
            "\n",
            "Best Hyperparameters: {'episodes': 100, 'gamma': 0.9, 'epsilon': 1.0, 'epsilon_decay': 0.99, 'min_epsilon': 0.05, 'batch_size': 32}\n",
            "Best Reward System: {'correct_derivative': 10, 'step_penalty': -0.5, 'simplify': 2, 'unnecessary_simplify': -1, 'correct_check': 10, 'incorrect_check': -5, 'finish_correct': 10, 'finish_incorrect': -10, 'invalid_action': -10}\n"
          ]
        }
      ]
    },
    {
      "cell_type": "code",
      "source": [
        "# Best model\n",
        "hyperparameters = {'episodes': 100, 'gamma': 0.9, 'epsilon': 1.0, 'epsilon_decay': 0.99, 'min_epsilon': 0.05, 'batch_size': 32}\n",
        "rewards = {'correct_derivative': 10, 'step_penalty': -0.5, 'simplify': 2, 'unnecessary_simplify': -1, 'correct_check': 10, 'incorrect_check': -5, 'finish_correct': 10, 'finish_incorrect': -10, 'invalid_action': -10}\n",
        "trained_agent, rewards = train_agent(hyperparameters, rewards)\n"
      ],
      "metadata": {
        "colab": {
          "base_uri": "https://localhost:8080/"
        },
        "id": "jEIOmJHmVEkb",
        "outputId": "6dc69f72-94c2-4d1e-dcc7-947d99aec2fc"
      },
      "execution_count": null,
      "outputs": [
        {
          "output_type": "stream",
          "name": "stderr",
          "text": [
            "/usr/local/lib/python3.11/dist-packages/ipykernel/ipkernel.py:283: DeprecationWarning: `should_run_async` will not call `transform_cell` automatically in the future. Please pass the result to `transformed_cell` argument and any exception that happen during thetransform in `preprocessing_exc_tuple` in IPython 7.17 and above.\n",
            "  and should_run_async(code)\n"
          ]
        }
      ]
    },
    {
      "cell_type": "code",
      "source": [
        "# Basic function to test the AI\n",
        "def test_agent(agent, rewards, episodes=10):\n",
        "    env = CalculusEnv(rewards)\n",
        "    for episode in range(episodes):\n",
        "        state = env.reset()\n",
        "        state_tensor = torch.tensor([state], dtype=torch.float32)\n",
        "        total_reward = 0\n",
        "\n",
        "        while not env.done:\n",
        "            with torch.no_grad():\n",
        "                q_values = agent(state_tensor)\n",
        "                action = torch.argmax(q_values).item()\n",
        "\n",
        "            state, reward, done, info = env.step(action)\n",
        "            state_tensor = torch.tensor([state], dtype=torch.float32)\n",
        "            total_reward += reward\n",
        "\n",
        "        print(f\"Test Episode {episode + 1}/{episodes}, Total Reward: {total_reward}\")"
      ],
      "metadata": {
        "id": "vBKobGFlWQUU"
      },
      "execution_count": null,
      "outputs": []
    },
    {
      "cell_type": "code",
      "source": [
        "rewards = {'correct_derivative': 10, 'step_penalty': -0.5, 'simplify': 2, 'unnecessary_simplify': -1, 'correct_check': 10, 'incorrect_check': -5, 'finish_correct': 10, 'finish_incorrect': -10, 'invalid_action': -10}\n",
        "test_agent(trained_agent, rewards)"
      ],
      "metadata": {
        "colab": {
          "base_uri": "https://localhost:8080/",
          "height": 350
        },
        "id": "ZC72FLACWZFX",
        "outputId": "b5fdd172-72bc-4202-fc36-64ef520756e5"
      },
      "execution_count": null,
      "outputs": [
        {
          "output_type": "error",
          "ename": "KeyboardInterrupt",
          "evalue": "",
          "traceback": [
            "\u001b[0;31m---------------------------------------------------------------------------\u001b[0m",
            "\u001b[0;31mKeyboardInterrupt\u001b[0m                         Traceback (most recent call last)",
            "\u001b[0;32m<ipython-input-11-b95d9c94e66b>\u001b[0m in \u001b[0;36m<cell line: 0>\u001b[0;34m()\u001b[0m\n\u001b[1;32m      1\u001b[0m \u001b[0mrewards\u001b[0m \u001b[0;34m=\u001b[0m \u001b[0;34m{\u001b[0m\u001b[0;34m'correct_derivative'\u001b[0m\u001b[0;34m:\u001b[0m \u001b[0;36m10\u001b[0m\u001b[0;34m,\u001b[0m \u001b[0;34m'step_penalty'\u001b[0m\u001b[0;34m:\u001b[0m \u001b[0;34m-\u001b[0m\u001b[0;36m0.5\u001b[0m\u001b[0;34m,\u001b[0m \u001b[0;34m'simplify'\u001b[0m\u001b[0;34m:\u001b[0m \u001b[0;36m2\u001b[0m\u001b[0;34m,\u001b[0m \u001b[0;34m'unnecessary_simplify'\u001b[0m\u001b[0;34m:\u001b[0m \u001b[0;34m-\u001b[0m\u001b[0;36m1\u001b[0m\u001b[0;34m,\u001b[0m \u001b[0;34m'correct_check'\u001b[0m\u001b[0;34m:\u001b[0m \u001b[0;36m10\u001b[0m\u001b[0;34m,\u001b[0m \u001b[0;34m'incorrect_check'\u001b[0m\u001b[0;34m:\u001b[0m \u001b[0;34m-\u001b[0m\u001b[0;36m5\u001b[0m\u001b[0;34m,\u001b[0m \u001b[0;34m'finish_correct'\u001b[0m\u001b[0;34m:\u001b[0m \u001b[0;36m10\u001b[0m\u001b[0;34m,\u001b[0m \u001b[0;34m'finish_incorrect'\u001b[0m\u001b[0;34m:\u001b[0m \u001b[0;34m-\u001b[0m\u001b[0;36m10\u001b[0m\u001b[0;34m,\u001b[0m \u001b[0;34m'invalid_action'\u001b[0m\u001b[0;34m:\u001b[0m \u001b[0;34m-\u001b[0m\u001b[0;36m10\u001b[0m\u001b[0;34m}\u001b[0m\u001b[0;34m\u001b[0m\u001b[0;34m\u001b[0m\u001b[0m\n\u001b[0;32m----> 2\u001b[0;31m \u001b[0mtest_agent\u001b[0m\u001b[0;34m(\u001b[0m\u001b[0mtrained_agent\u001b[0m\u001b[0;34m,\u001b[0m \u001b[0mrewards\u001b[0m\u001b[0;34m)\u001b[0m\u001b[0;34m\u001b[0m\u001b[0;34m\u001b[0m\u001b[0m\n\u001b[0m",
            "\u001b[0;32m<ipython-input-10-f033e621f862>\u001b[0m in \u001b[0;36mtest_agent\u001b[0;34m(agent, rewards, episodes)\u001b[0m\n\u001b[1;32m      9\u001b[0m         \u001b[0;32mwhile\u001b[0m \u001b[0;32mnot\u001b[0m \u001b[0menv\u001b[0m\u001b[0;34m.\u001b[0m\u001b[0mdone\u001b[0m\u001b[0;34m:\u001b[0m\u001b[0;34m\u001b[0m\u001b[0;34m\u001b[0m\u001b[0m\n\u001b[1;32m     10\u001b[0m             \u001b[0;32mwith\u001b[0m \u001b[0mtorch\u001b[0m\u001b[0;34m.\u001b[0m\u001b[0mno_grad\u001b[0m\u001b[0;34m(\u001b[0m\u001b[0;34m)\u001b[0m\u001b[0;34m:\u001b[0m\u001b[0;34m\u001b[0m\u001b[0;34m\u001b[0m\u001b[0m\n\u001b[0;32m---> 11\u001b[0;31m                 \u001b[0mq_values\u001b[0m \u001b[0;34m=\u001b[0m \u001b[0magent\u001b[0m\u001b[0;34m(\u001b[0m\u001b[0mstate_tensor\u001b[0m\u001b[0;34m)\u001b[0m\u001b[0;34m\u001b[0m\u001b[0;34m\u001b[0m\u001b[0m\n\u001b[0m\u001b[1;32m     12\u001b[0m                 \u001b[0maction\u001b[0m \u001b[0;34m=\u001b[0m \u001b[0mtorch\u001b[0m\u001b[0;34m.\u001b[0m\u001b[0margmax\u001b[0m\u001b[0;34m(\u001b[0m\u001b[0mq_values\u001b[0m\u001b[0;34m)\u001b[0m\u001b[0;34m.\u001b[0m\u001b[0mitem\u001b[0m\u001b[0;34m(\u001b[0m\u001b[0;34m)\u001b[0m\u001b[0;34m\u001b[0m\u001b[0;34m\u001b[0m\u001b[0m\n\u001b[1;32m     13\u001b[0m \u001b[0;34m\u001b[0m\u001b[0m\n",
            "\u001b[0;32m/usr/local/lib/python3.11/dist-packages/torch/nn/modules/module.py\u001b[0m in \u001b[0;36m_wrapped_call_impl\u001b[0;34m(self, *args, **kwargs)\u001b[0m\n\u001b[1;32m   1734\u001b[0m             \u001b[0;32mreturn\u001b[0m \u001b[0mself\u001b[0m\u001b[0;34m.\u001b[0m\u001b[0m_compiled_call_impl\u001b[0m\u001b[0;34m(\u001b[0m\u001b[0;34m*\u001b[0m\u001b[0margs\u001b[0m\u001b[0;34m,\u001b[0m \u001b[0;34m**\u001b[0m\u001b[0mkwargs\u001b[0m\u001b[0;34m)\u001b[0m  \u001b[0;31m# type: ignore[misc]\u001b[0m\u001b[0;34m\u001b[0m\u001b[0;34m\u001b[0m\u001b[0m\n\u001b[1;32m   1735\u001b[0m         \u001b[0;32melse\u001b[0m\u001b[0;34m:\u001b[0m\u001b[0;34m\u001b[0m\u001b[0;34m\u001b[0m\u001b[0m\n\u001b[0;32m-> 1736\u001b[0;31m             \u001b[0;32mreturn\u001b[0m \u001b[0mself\u001b[0m\u001b[0;34m.\u001b[0m\u001b[0m_call_impl\u001b[0m\u001b[0;34m(\u001b[0m\u001b[0;34m*\u001b[0m\u001b[0margs\u001b[0m\u001b[0;34m,\u001b[0m \u001b[0;34m**\u001b[0m\u001b[0mkwargs\u001b[0m\u001b[0;34m)\u001b[0m\u001b[0;34m\u001b[0m\u001b[0;34m\u001b[0m\u001b[0m\n\u001b[0m\u001b[1;32m   1737\u001b[0m \u001b[0;34m\u001b[0m\u001b[0m\n\u001b[1;32m   1738\u001b[0m     \u001b[0;31m# torchrec tests the code consistency with the following code\u001b[0m\u001b[0;34m\u001b[0m\u001b[0;34m\u001b[0m\u001b[0m\n",
            "\u001b[0;32m/usr/local/lib/python3.11/dist-packages/torch/nn/modules/module.py\u001b[0m in \u001b[0;36m_call_impl\u001b[0;34m(self, *args, **kwargs)\u001b[0m\n\u001b[1;32m   1738\u001b[0m     \u001b[0;31m# torchrec tests the code consistency with the following code\u001b[0m\u001b[0;34m\u001b[0m\u001b[0;34m\u001b[0m\u001b[0m\n\u001b[1;32m   1739\u001b[0m     \u001b[0;31m# fmt: off\u001b[0m\u001b[0;34m\u001b[0m\u001b[0;34m\u001b[0m\u001b[0m\n\u001b[0;32m-> 1740\u001b[0;31m     \u001b[0;32mdef\u001b[0m \u001b[0m_call_impl\u001b[0m\u001b[0;34m(\u001b[0m\u001b[0mself\u001b[0m\u001b[0;34m,\u001b[0m \u001b[0;34m*\u001b[0m\u001b[0margs\u001b[0m\u001b[0;34m,\u001b[0m \u001b[0;34m**\u001b[0m\u001b[0mkwargs\u001b[0m\u001b[0;34m)\u001b[0m\u001b[0;34m:\u001b[0m\u001b[0;34m\u001b[0m\u001b[0;34m\u001b[0m\u001b[0m\n\u001b[0m\u001b[1;32m   1741\u001b[0m         \u001b[0mforward_call\u001b[0m \u001b[0;34m=\u001b[0m \u001b[0;34m(\u001b[0m\u001b[0mself\u001b[0m\u001b[0;34m.\u001b[0m\u001b[0m_slow_forward\u001b[0m \u001b[0;32mif\u001b[0m \u001b[0mtorch\u001b[0m\u001b[0;34m.\u001b[0m\u001b[0m_C\u001b[0m\u001b[0;34m.\u001b[0m\u001b[0m_get_tracing_state\u001b[0m\u001b[0;34m(\u001b[0m\u001b[0;34m)\u001b[0m \u001b[0;32melse\u001b[0m \u001b[0mself\u001b[0m\u001b[0;34m.\u001b[0m\u001b[0mforward\u001b[0m\u001b[0;34m)\u001b[0m\u001b[0;34m\u001b[0m\u001b[0;34m\u001b[0m\u001b[0m\n\u001b[1;32m   1742\u001b[0m         \u001b[0;31m# If we don't have any hooks, we want to skip the rest of the logic in\u001b[0m\u001b[0;34m\u001b[0m\u001b[0;34m\u001b[0m\u001b[0m\n",
            "\u001b[0;31mKeyboardInterrupt\u001b[0m: "
          ]
        }
      ]
    },
    {
      "cell_type": "code",
      "source": [
        "# Visualize the AI to evaluate and understand what happened\n",
        "import matplotlib.pyplot as plt\n",
        "\n",
        "# Visualize accuracy over episodes\n",
        "def plot_accuracy_progress(accuracy_list):\n",
        "    plt.figure(figsize=(10, 6))\n",
        "    plt.plot(accuracy_list, label='Accuracy')\n",
        "    plt.xlabel('Episodes')\n",
        "    plt.ylabel('Accuracy (%)')\n",
        "    plt.title('Agent Accuracy Over Episodes')\n",
        "    plt.legend()\n",
        "    plt.grid()\n",
        "    plt.show()\n",
        "\n",
        "# accuracy_progress from earlier during training\n",
        "plot_accuracy_progress(accuracy_progress)"
      ],
      "metadata": {
        "colab": {
          "base_uri": "https://localhost:8080/",
          "height": 564
        },
        "id": "s9IT5cMa5frZ",
        "outputId": "ccb06027-33a2-4935-8a7f-113353767d0f"
      },
      "execution_count": null,
      "outputs": [
        {
          "output_type": "display_data",
          "data": {
            "text/plain": [
              "<Figure size 1000x600 with 1 Axes>"
            ],
            "image/png": "[encoded data removed]"
          },
          "metadata": {}
        }
      ]
    },
    {
      "cell_type": "code",
      "source": [
        "# Understand what the AI is messing up\n",
        "def visualize_results(results, num_examples=5):\n",
        "    print(\"Examples of Correct Solutions:\")\n",
        "    correct_examples = [res for res in results if res[2] == \"Correct\"]\n",
        "    for i, (problem, solution, status) in enumerate(correct_examples[:num_examples]):\n",
        "        print(f\"{i + 1}. Problem: {problem}, Solution: {solution}, Status: {status}\")\n",
        "\n",
        "    print(\"\\nExamples of Incorrect Solutions:\")\n",
        "    incorrect_examples = [res for res in results if res[2] == \"Incorrect\"]\n",
        "    for i, (problem, solution, status) in enumerate(incorrect_examples[:num_examples]):\n",
        "        print(f\"{i + 1}. Problem: {problem}, Solution: {solution}, Status: {status}\")\n",
        "\n",
        "\n",
        "visualize_results(test_results)"
      ],
      "metadata": {
        "id": "7KSsTqJv5xsq"
      },
      "execution_count": null,
      "outputs": []
    },
    {
      "cell_type": "code",
      "source": [
        "# Make a Confusion Matrix just to see if we learn anything new\n",
        "import seaborn as sns\n",
        "import numpy as np\n",
        "from sklearn.metrics import confusion_matrix\n",
        "\n",
        "def plot_confusion_matrix(results):\n",
        "    y_true = [\"Correct\" if res[2] == \"Correct\" else \"Incorrect\" for res in results]\n",
        "    y_pred = [\"Correct\" if res[2] == \"Correct\" else \"Incorrect\" for res in results]\n",
        "\n",
        "    labels = [\"Correct\", \"Incorrect\"]\n",
        "    cm = confusion_matrix(y_true, y_pred, labels=labels)\n",
        "    plt.figure(figsize=(8, 6))\n",
        "    sns.heatmap(cm, annot=True, fmt=\"d\", cmap=\"Blues\", xticklabels=labels, yticklabels=labels)\n",
        "    plt.xlabel(\"Predicted\")\n",
        "    plt.ylabel(\"True\")\n",
        "    plt.title(\"Confusion Matrix\")\n",
        "    plt.show()\n",
        "\n",
        "\n",
        "plot_confusion_matrix(test_results)"
      ],
      "metadata": {
        "id": "z_IaCeWo53BE"
      },
      "execution_count": null,
      "outputs": []
    }
  ]
}